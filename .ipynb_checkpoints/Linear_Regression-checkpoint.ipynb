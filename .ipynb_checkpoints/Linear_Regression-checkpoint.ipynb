{
 "cells": [
  {
   "cell_type": "markdown",
   "metadata": {
    "collapsed": true
   },
   "source": [
    "## Linear Regression \n",
    "\n",
    "Linear regression is a useful model to use when you have linear variables.  below is a code a-long for linear regression"
   ]
  },
  {
   "cell_type": "code",
   "execution_count": null,
   "metadata": {
    "collapsed": true
   },
   "outputs": [],
   "source": [
    "#Linear Regession\n",
    "\n",
    "X = super_poke[['HP', 'Attack', 'Defense', 'Sp_Atk', 'Sp_Def', 'Speed']]\n",
    "y = super_poke['cp']\n",
    "\n",
    "# create training and testing vars\n",
    "X_train, X_test, y_train, y_test = train_test_split(X, y, test_size=0.3)\n",
    "\n",
    "# model used \n",
    "lm = linear_model.LinearRegression() # has a series of attributes and methods - LinearRegression is a method\n",
    "                                     # of linear_model from the sklearn library.\n",
    "# Perform 6-fold cross validation within a TRAINING set\n",
    "scores = cross_val_score(lm, X_train, y_train, cv=6)\n",
    "print \"Cross-validated scores:\", scores\n",
    "\n",
    "# Make cross validated predictions\n",
    "predictions = cross_val_predict(lm, X_train, y_train, cv=6)\n",
    "plt.scatter(y_train, predictions, alpha = .3)\n",
    "accuracy = metrics.r2_score(y_train, predictions)\n",
    "print \"Cross-Predicted Accuracy:\", accuracy\n",
    "\n",
    "\n",
    "# fit a model\n",
    "model = lm.fit(X_train, y_train)     # fit is a method of LinearRegression\n",
    "predictions = lm.predict(X_test)     # random list of predictions\n",
    "# p\n",
    "plt.scatter(y_test, predictions)     \n",
    "plt.xlabel(\"True Values\")            # values we know are correct and observed \n",
    "plt.ylabel(\"Predictions\")            # predictions\n",
    "plt.title('Pokemon CP')\n",
    "print \"Score:\", model.score(X_test, y_test) # default metric is score is r squared\n"
   ]
  }
 ],
 "metadata": {
  "kernelspec": {
   "display_name": "Python 2",
   "language": "python",
   "name": "python2"
  },
  "language_info": {
   "codemirror_mode": {
    "name": "ipython",
    "version": 2
   },
   "file_extension": ".py",
   "mimetype": "text/x-python",
   "name": "python",
   "nbconvert_exporter": "python",
   "pygments_lexer": "ipython2",
   "version": "2.7.13"
  }
 },
 "nbformat": 4,
 "nbformat_minor": 2
}
